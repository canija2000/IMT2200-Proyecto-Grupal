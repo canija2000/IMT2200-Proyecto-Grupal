{
 "cells": [
  {
   "cell_type": "code",
   "execution_count": 62,
   "id": "6301953d-c7f4-40ac-9709-e0e7275d7d40",
   "metadata": {},
   "outputs": [],
   "source": [
    "import pandas as pd\n",
    "import glob\n",
    "import os"
   ]
  },
  {
   "cell_type": "code",
   "execution_count": 17,
   "id": "c9dc57c6-d054-4ee2-8365-6c7754a2b4da",
   "metadata": {},
   "outputs": [],
   "source": [
    "def convertir_csv(archivo):\n",
    "    for sheet_name in archivo.sheet_names:\n",
    "        # Leer la hoja\n",
    "        df = archivo.parse(sheet_name)\n",
    "        # Guardar como CSV\n",
    "        df.to_csv(f\"{sheet_name}.csv\", index=False, encoding='utf-8')\n",
    "        print(f\"Hoja '{sheet_name}' guardada como '{sheet_name}.csv'\")"
   ]
  },
  {
   "cell_type": "code",
   "execution_count": 18,
   "id": "979f97f3-3d04-41ad-b4de-eb6ac6198bd5",
   "metadata": {},
   "outputs": [
    {
     "name": "stdout",
     "output_type": "stream",
     "text": [
      "Hoja 'ÍNDICE' guardada como 'ÍNDICE.csv'\n",
      "Hoja 'PERSONAS RSH' guardada como 'PERSONAS RSH.csv'\n",
      "Hoja 'PERSONAS POR CSE' guardada como 'PERSONAS POR CSE.csv'\n",
      "Hoja 'HOGARES POR CSE' guardada como 'HOGARES POR CSE.csv'\n",
      "Hoja 'JEFES DE HOGAR POR SEXO' guardada como 'JEFES DE HOGAR POR SEXO.csv'\n",
      "Hoja 'JEFATURAS FEMENINAS POR CSE' guardada como 'JEFATURAS FEMENINAS POR CSE.csv'\n",
      "Hoja 'PERSONAS CALLE' guardada como 'PERSONAS CALLE.csv'\n",
      "Hoja 'ADULTOS MAYORES POR CSE' guardada como 'ADULTOS MAYORES POR CSE.csv'\n",
      "Hoja 'NIÑOS POR CSE' guardada como 'NIÑOS POR CSE.csv'\n",
      "Hoja 'DEPENDENCIA' guardada como 'DEPENDENCIA.csv'\n",
      "Hoja 'EXTRANJEROS' guardada como 'EXTRANJEROS.csv'\n",
      "Hoja 'PUEBLOS ORIGINARIOS' guardada como 'PUEBLOS ORIGINARIOS.csv'\n",
      "Hoja 'HOGARES POR HACINAMIENTO' guardada como 'HOGARES POR HACINAMIENTO.csv'\n",
      "Hoja 'HOGARES POR TIPO DE VIVIENDA' guardada como 'HOGARES POR TIPO DE VIVIENDA.csv'\n",
      "Hoja 'HOGARES POR FUENTE DEL AGUA' guardada como 'HOGARES POR FUENTE DEL AGUA.csv'\n"
     ]
    }
   ],
   "source": [
    "\n",
    "# Ruta al archivo Excel\n",
    "excel_file = \"INDICADORES COMUNALES REGISTRO SOCIAL DE HOGARES (Agosto 2023) (1).xlsx\"\n",
    "\n",
    "# Cargar el archivo Excel\n",
    "xls = pd.ExcelFile(excel_file)\n",
    "\n",
    "convertir_csv(xls)"
   ]
  },
  {
   "cell_type": "code",
   "execution_count": 19,
   "id": "7e0e8225-48ad-4de1-ab8e-d7dbf74af8c9",
   "metadata": {},
   "outputs": [
    {
     "name": "stdout",
     "output_type": "stream",
     "text": [
      "Hoja 'ÍNDICE' guardada como 'ÍNDICE.csv'\n",
      "Hoja 'PERSONAS 40%' guardada como 'PERSONAS 40%.csv'\n",
      "Hoja 'PERSONAS 60%' guardada como 'PERSONAS 60%.csv'\n",
      "Hoja 'HOGARES 40%' guardada como 'HOGARES 40%.csv'\n",
      "Hoja 'HOGARES 60%' guardada como 'HOGARES 60%.csv'\n",
      "Hoja 'JEFES DE HOGAR POR SEXO' guardada como 'JEFES DE HOGAR POR SEXO.csv'\n",
      "Hoja 'JEFATURAS FEMENINAS' guardada como 'JEFATURAS FEMENINAS.csv'\n",
      "Hoja 'PERSONAS CALLE' guardada como 'PERSONAS CALLE.csv'\n",
      "Hoja 'ADULTOS MAYORES' guardada como 'ADULTOS MAYORES.csv'\n",
      "Hoja 'NIÑOS' guardada como 'NIÑOS.csv'\n",
      "Hoja 'DEPENDENCIA' guardada como 'DEPENDENCIA.csv'\n",
      "Hoja 'EXTRANJEROS' guardada como 'EXTRANJEROS.csv'\n",
      "Hoja 'PUEBLOS ORIGINARIOS' guardada como 'PUEBLOS ORIGINARIOS.csv'\n",
      "Hoja 'HOGARES POR HACINAMIENTO' guardada como 'HOGARES POR HACINAMIENTO.csv'\n",
      "Hoja 'HOGARES POR TIPO DE VIVIENDA' guardada como 'HOGARES POR TIPO DE VIVIENDA.csv'\n",
      "Hoja 'HOGARES POR FUENTE DEL AGUA' guardada como 'HOGARES POR FUENTE DEL AGUA.csv'\n"
     ]
    }
   ],
   "source": [
    "xls_2 = pd.ExcelFile(\"INDICADORES COMUNALES REGISTRO SOCIAL DE HOGARES (Julio 2022).xlsx\")\n",
    "convertir_csv(xls_2)"
   ]
  },
  {
   "cell_type": "code",
   "execution_count": 20,
   "id": "cfc9b595-475e-436d-8df6-1f40f13e6ee8",
   "metadata": {},
   "outputs": [
    {
     "name": "stdout",
     "output_type": "stream",
     "text": [
      "Hoja 'ÍNDICE' guardada como 'ÍNDICE.csv'\n",
      "Hoja 'PERSONAS RSH' guardada como 'PERSONAS RSH.csv'\n",
      "Hoja 'PERSONAS POR CSE' guardada como 'PERSONAS POR CSE.csv'\n",
      "Hoja 'HOGARES POR CSE' guardada como 'HOGARES POR CSE.csv'\n",
      "Hoja 'JEFES DE HOGAR POR SEXO' guardada como 'JEFES DE HOGAR POR SEXO.csv'\n",
      "Hoja 'JEFATURAS FEMENINAS POR CSE' guardada como 'JEFATURAS FEMENINAS POR CSE.csv'\n",
      "Hoja 'PERSONAS CALLE' guardada como 'PERSONAS CALLE.csv'\n",
      "Hoja 'ADULTOS MAYORES POR CSE' guardada como 'ADULTOS MAYORES POR CSE.csv'\n",
      "Hoja 'NIÑOS POR CSE' guardada como 'NIÑOS POR CSE.csv'\n",
      "Hoja 'DEPENDENCIA' guardada como 'DEPENDENCIA.csv'\n",
      "Hoja 'NECESIDAD DE CUIDADO' guardada como 'NECESIDAD DE CUIDADO.csv'\n",
      "Hoja 'EXTRANJEROS' guardada como 'EXTRANJEROS.csv'\n",
      "Hoja 'PUEBLOS ORIGINARIOS' guardada como 'PUEBLOS ORIGINARIOS.csv'\n",
      "Hoja 'HOGARES POR HACINAMIENTO' guardada como 'HOGARES POR HACINAMIENTO.csv'\n",
      "Hoja 'HOGARES POR TIPO DE VIVIENDA' guardada como 'HOGARES POR TIPO DE VIVIENDA.csv'\n",
      "Hoja 'HOGARES POR FUENTE DEL AGUA' guardada como 'HOGARES POR FUENTE DEL AGUA.csv'\n"
     ]
    }
   ],
   "source": [
    "xls_3 = pd.ExcelFile(\"INDICADORES COMUNALES REGISTRO SOCIAL DE HOGARES (Septiembre 2024).xlsx\")\n",
    "funcion = convertir_csv(xls_3)"
   ]
  },
  {
   "cell_type": "code",
   "execution_count": 48,
   "id": "0fef2820-dd80-4ca2-b9f5-562d6be5e984",
   "metadata": {},
   "outputs": [],
   "source": [
    "def limpiar_df_2024(dataframe):\n",
    "    df = dataframe\n",
    "    # Eliminar las columnas completamente vacías\n",
    "    df.dropna(axis=1, how=\"all\", inplace=True)\n",
    "    df.dropna(axis=0, how=\"all\", inplace=True)\n",
    "    umbral = 0.5  \n",
    "    # Mantener solo las columnas que tienen menos del 50% de valores nulos\n",
    "    df = df.loc[:, df.isnull().mean() < umbral]\n",
    "    # Mantener solo las filas que tienen menos del 50% de valores nulos\n",
    "    df = df.loc[df.isnull().mean(axis=1) < umbral]\n",
    "    return df"
   ]
  },
  {
   "cell_type": "code",
   "execution_count": 69,
   "id": "a350bb74-299c-4bcb-a262-046451dbc94c",
   "metadata": {},
   "outputs": [],
   "source": [
    "carpeta = 'septiembre_2024/*.csv'\n",
    "\n",
    "dict_df_2024 = {}\n",
    "for ruta_archivo in glob.glob(carpeta):\n",
    "    df = pd.read_csv(ruta_archivo, skiprows=4)\n",
    "    nombre_archivo = os.path.basename(ruta_archivo).split(\".\")[0]\n",
    "    dict_df_2024[nombre_archivo] = limpiar_df_2024(df)\n",
    "\n",
    "\n",
    "for nombre, df in dict_df_2024.items():\n",
    "    # Guarda cada DataFrame como un archivo CSV usando el nombre de la clave\n",
    "    df.to_csv(f\"{nombre}.csv\", index=False)"
   ]
  },
  {
   "cell_type": "code",
   "execution_count": 70,
   "id": "c731354e-763b-4141-93a3-954d75c6679e",
   "metadata": {},
   "outputs": [],
   "source": [
    "carpeta = 'agosto_2023/*.csv'\n",
    "\n",
    "dict_df_2023 = {}\n",
    "for ruta_archivo in glob.glob(carpeta):\n",
    "    df = pd.read_csv(ruta_archivo, skiprows=4)\n",
    "    nombre_archivo = os.path.basename(ruta_archivo).split(\".\")[0]\n",
    "    dict_df_2023[nombre_archivo] = limpiar_df_2024(df)\n",
    "\n",
    "for nombre, df in dict_df_2023.items():\n",
    "    # Guarda cada DataFrame como un archivo CSV usando el nombre de la clave\n",
    "    df.to_csv(f\"{nombre}.csv\", index=False)"
   ]
  },
  {
   "cell_type": "code",
   "execution_count": 71,
   "id": "79e86bd8-2154-4566-a883-67c5d61037d4",
   "metadata": {},
   "outputs": [],
   "source": [
    "carpeta = 'julio_2022/*.csv'\n",
    "\n",
    "dict_df_2022 = {}\n",
    "for ruta_archivo in glob.glob(carpeta):\n",
    "    df = pd.read_csv(ruta_archivo, skiprows=4)\n",
    "    nombre_archivo = os.path.basename(ruta_archivo).split(\".\")[0]\n",
    "    dict_df_2022[nombre_archivo] = limpiar_df_2024(df)\n",
    "\n",
    "for nombre, df in dict_df_2022.items():\n",
    "    # Guarda cada DataFrame como un archivo CSV usando el nombre de la clave\n",
    "    df.to_csv(f\"{nombre}.csv\", index=False)\n"
   ]
  }
 ],
 "metadata": {
  "kernelspec": {
   "display_name": "Python 3 (ipykernel)",
   "language": "python",
   "name": "python3"
  },
  "language_info": {
   "codemirror_mode": {
    "name": "ipython",
    "version": 3
   },
   "file_extension": ".py",
   "mimetype": "text/x-python",
   "name": "python",
   "nbconvert_exporter": "python",
   "pygments_lexer": "ipython3",
   "version": "3.12.4"
  }
 },
 "nbformat": 4,
 "nbformat_minor": 5
}
