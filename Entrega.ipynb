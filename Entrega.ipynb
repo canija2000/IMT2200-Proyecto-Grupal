{
 "cells": [
  {
   "cell_type": "markdown",
   "metadata": {},
   "source": [
    "<h1 style=\"padding:10px;\"> Proyecto Grupal : Análisis índices del Transporte Público de la Región Metropolitana y sus relaciones con los índices socioeconómicos de la población. </h1>\n",
    "\n",
    "<div style=\"margin:2px; text-align:justify;\">\n",
    "<p style=\"padding:10px;\">Dado que somos usuarios cotidianos del servicio de transporte público, es natural que tengamos un\n",
    "interés en él. A diario nos encontramos con vagones (o buses) llenos, vacíos o normales, y surgen las\n",
    "dudas; ¿Qué hay de los usuarios de esos vagones?, ¿Hay algún patrón?, ¿Alguna tendencia?, ¿Siempre\n",
    "ha sido así?\n",
    "Son preguntas que uno podría hacerse, ya sea por curiosidad, por planear mejor un viaje, por entender\n",
    "mejor, o por lo que sea. La cuestión es que hay algo interesante que puede ser investigado</p>\n",
    "</div>"
   ]
  },
  {
   "cell_type": "markdown",
   "metadata": {},
   "source": [
    "<h3 style=\"text-align:center;\">Metro</h3>\n",
    "<p style=\"padding:10px; text-align:justify;\">Para esto, en primera instancia hemos usado datos de la DTP (Dirección de Transporte Público Metropolitano). Veamos en primer lugar la cantidad de pasajeros que se trasportan a través del metro (históricamente).\n",
    "[Consideremos, también, cómo se distribuyen estos recorridos en el mapa de la región metropolitana.]</p>\n",
    "\n",
    "<div style=\"display: flex;\">\n",
    "<img style=\"height: 20rem; width: 25rem\" src=\"imgs/lineas_metro.png\">\n",
    "<img style=\"margin: 0; width: 40rem;\" src=\"imgs/millones_pasajeros_metro.png\">\n",
    "</div>  \n",
    "<span style=\"font-style:italic;\">Fig 0 - Líneas de metro y cantidad de pasajeros transportados por año.</span>"
   ]
  },
  {
   "cell_type": "markdown",
   "metadata": {},
   "source": [
    "De este primer vistazo podemos ver un par de cosas relevantes:\n",
    "1. La crisis del 2008 no afectó el uso del transporte, al contrario, vimos uno de los mayores registros.\n",
    "2. Las líneas 3 y 6, logran, en cierta medida, disminuir la carga de las otras lineas. (el cual era su objetivo)\n",
    "3. Como es de esperarse el año de pandemia (2020) se ve una disminución grande en la cantidad de pasajeros. De la cual aún no se recupera la *normalidad*, hasta la fecha [2023]."
   ]
  },
  {
   "cell_type": "markdown",
   "metadata": {},
   "source": [
    "<h3 style=\"text-align: center;\"> Buses </h3>\n",
    "\n",
    "Veamos ahora, una distribuición (a la fecha), de la cobertura del servicio de buses en la región metropolitana.\n",
    "\n",
    "<div>\n",
    "<img style=\"size: 50rem\" src=\"imgs/mapa_estatico_transporte_publico_urbanizado.png\">\n",
    "<span style=\"font-style: italic;\"> Fig 1 : Distribución de las paradas de buses en la región metropolitana. </span> \n",
    "</div>"
   ]
  },
  {
   "cell_type": "markdown",
   "metadata": {},
   "source": [
    "<p style=\"padding:10px; text-align:justify;\"></p>\n",
    "<p style=\"padding:10px; text-align:justify;\">\n",
    "El índice se ha calculado en base a la cantidad de paraderos por [.....] </p>\n",
    "<p style=\"padding:10px; text-align:justify;\">\n",
    "Consideremos también, los índices de pobreza en las comunas durante los años 2020 y 2022 [datos disponibles del censo], y veamos cómo podemos comenzar a hacer relaciones.</p>\n",
    "<img src=\"imgs/pobreza_2020_2022.png\">\n",
    "<span style=\"font-style: italic;\"> Fig 2 : Índices de pobreza en la región metropolitana en los años 2020 y 2022. </span>\n"
   ]
  },
  {
   "cell_type": "markdown",
   "metadata": {},
   "source": [
    "<p style=\"padding:2px; text-align:justify; margin:4px;\">\n",
    "Lo primero que podemos ver es que los índices de pobreza disminuyeron casi a la mitad, pero que también se mantiene la distribución de esta.</p>\n",
    "<p style=\"padding:2px; text-align:justify; margin:4px;\">Vemos que también (en general) las comunas con mayores índices son donde encontramos una mayor densidad de paraderos (fig.1), y al revés, dónde hay menor índice de pobreza (Las condes por ej) , la densidad de paraderos es menor. </p>\n",
    "<p style=\"padding:2px; text-align:justify; margin:4px;\">Al igual que con el transporte de buses, podemos ver que las comunas que mantienen los mayores índices de pobreza, forman una franja vertical </p>\n",
    "<p style=\"padding:2px; text-align:justify; margin:4px;\"> De esto podemos intuir que a medida que la situación socioeconomica es mejor, el uso del transporte público es menor, pues existen otros medios de transporte (autos, taxis, uber) que son mas accesibles para estos sectores.</p>\n",
    "\n",
    "<p style=\"padding:2px; text-align:justify;\">\n",
    "Ahora, sin llegar a conclusiones precipitadas, veamos la cantidad de viajes iniciados por comuna, en abril de este año (2024)</p>\n",
    "<div style=\"padding:3px; text-align:center;\">\n",
    "<img style=\"width:50rem;\" src=\"imgs/viajes_15_abril.png\">\n",
    "</div>\n",
    "<span style=\"font-style:italic; \">Fig 3 Cantidad de viajes iniciados por comuna 2024.</span>\n",
    "\n",
    "\n"
   ]
  },
  {
   "cell_type": "markdown",
   "metadata": {},
   "source": [
    "<p style=\"padding:2px; text-align:justify;\">\n",
    "Vemos que por lejos Santiago centro es de dónde más se inician viajes. Podemos, también, seguir manteniendo que comunas como Lo Barnechea, Vitacura, que tienen menores indices de pobreza, utilizan menos el transporte público. Pero también tenemos que Las Condes, al ser también una comuna con alto cuerpo empresarial, tiene una gran cantidad de viajes (lo mismo Providencia). Desde luego Maipú también resalta en esta observación.</p>\n",
    "\n",
    "<p style=\"padding:2px; text-align:justify;\"> Podemos empezar a vislumbrar que el uso del transporte no se relaciona únicamente con la situación socioeconomica que vive en esa comuna, sino también con la gente que trabaja en ella, el tipo de actividad principal de esa comuna, pero también la cantidad de gente que vive ahí. </p>"
   ]
  },
  {
   "cell_type": "markdown",
   "metadata": {},
   "source": [
    "Por ejemplo : colegios, hospitales ..."
   ]
  }
 ],
 "metadata": {
  "language_info": {
   "name": "python"
  }
 },
 "nbformat": 4,
 "nbformat_minor": 2
}
