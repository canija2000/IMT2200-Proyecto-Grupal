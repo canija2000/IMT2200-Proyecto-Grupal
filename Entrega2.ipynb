{
 "cells": [
  {
   "cell_type": "markdown",
   "metadata": {},
   "source": [
    "<h1 style=\"padding:10px;\"> Proyecto Grupal : Análisis índices del Transporte Público de la Región Metropolitana y sus relaciones con los índices socioeconómicos de la población. </h1>\n",
    "\n",
    "<div style=\"margin:2px; text-align:justify;\">\n",
    "<p style=\"padding:10px;\">Dado que somos usuarios cotidianos del servicio de transporte público, es natural que tengamos un\n",
    "interés en él. A diario nos encontramos con vagones (o buses) llenos, vacíos o normales, y surgen las\n",
    "dudas; ¿Qué hay de los usuarios de esos vagones?, ¿Hay algún patrón?, ¿Alguna tendencia?, ¿Siempre\n",
    "ha sido así?\n",
    "Son preguntas que uno podría hacerse, ya sea por curiosidad, por planear mejor un viaje, por entender\n",
    "mejor, o por lo que sea. La cuestión es que hay algo interesante que puede ser investigado</p>\n",
    "</div>"
   ]
  },
  {
   "cell_type": "markdown",
   "metadata": {},
   "source": [
    "<h3 style=\"text-align:center;\">Metro</h3>\n",
    "<p style=\"padding:10px; text-align:justify;\">Para esto, en primera instancia hemos usado datos de la DTP (Dirección de Transporte Público Metropolitano). Veamos en primer lugar la cantidad de pasajeros que se trasportan a través del metro (históricamente).\n",
    "[Consideremos, también, cómo se distribuyen estos recorridos en el mapa de la región metropolitana.]</p>\n",
    "\n",
    "<div style=\"display: flex;\">\n",
    "<img style=\"height: 20rem; width: 25rem\" src=\"imgs/lineas_metro.png\">\n",
    "<img style=\"margin: 0; width: 40rem;\" src=\"imgs/millones_pasajeros_metro.png\">\n",
    "</div>  \n",
    "<span style=\"font-style:italic;\">Fig 0 - Líneas de metro y cantidad de pasajeros transportados por año.</span>"
   ]
  },
  {
   "cell_type": "markdown",
   "metadata": {},
   "source": [
    "De este primer vistazo podemos ver un par de cosas relevantes:\n",
    "1. La crisis del 2008 no afectó el uso del transporte, al contrario, vimos uno de los mayores registros.\n",
    "2. Las líneas 3 y 6, logran, en cierta medida, disminuir la carga de las otras lineas. (el cual era su objetivo)\n",
    "3. Como es de esperarse el año de pandemia (2020) se ve una disminución grande en la cantidad de pasajeros. De la cual aún no se recupera la *normalidad*, hasta la fecha [2023]."
   ]
  },
  {
   "cell_type": "markdown",
   "metadata": {},
   "source": [
    "<h3 style=\"text-align: center;\"> Buses </h3>\n",
    "\n",
    "Veamos ahora, una distribuición (a la fecha), de la cobertura del servicio de buses en la región metropolitana.\n",
    "\n",
    "<div>\n",
    "<img style=\"size: 50rem\" src=\"imgs/mapa_estatico_transporte_publico_urbanizado.png\">\n",
    "<span style=\"font-style: italic;\"> Fig 1 : Distribución de las paradas de buses en la región metropolitana. </span> \n",
    "</div>"
   ]
  },
  {
   "cell_type": "markdown",
   "metadata": {},
   "source": [
    "# Índice de cobertura de transporte público (IC)\n",
    "\n",
    "El IC se ha calculado como el promedio de otros dos índices. \n",
    "\n",
    "## IPH (Índice por habitante)\n",
    "\n",
    "- Este índice mide la cantidad de paradas de autobuses por cada habitante en la comuna.\n",
    "- Se calcula como: \n",
    "\n",
    "    ```\n",
    "    IPH = Número de Paradas / Población\n",
    "    ```\n",
    "- Este índice refleja qué tan accesibles son las paradas para los habitantes de la comuna en función de su densidad poblacional.\n",
    "\n",
    "## IPA (Índice por área)\n",
    "\n",
    "- Este índice mide la cantidad de paradas por kilómetro cuadrado de área urbanizada en la comuna.\n",
    "- Se calcula como:\n",
    "\n",
    "    ```\n",
    "    IPA = Número de Paradas / Área Urbanizada (km²)\n",
    "    ```\n",
    "- Este índice indica la densidad de paradas en términos espaciales, es decir, qué tan bien está cubierta la superficie de la comuna con paradas de autobuses.\n",
    "\n",
    "## Normalización \n",
    "\n",
    "Se utilizó la normalización Min-Max para estandarizar los valores de IPH e IPA en un rango de 0 a 1, quedando los índices normalizados como:\n",
    "- ```IPH_norm = (IPH - IPH_min) / (IPH_max - IPH_min)```\n",
    "\n",
    "- ```IPA_norm = (IPA - IPA_min) / (IPA_max - IPA_min)```\n",
    "\n",
    "De estos dos índices normalizados se obtiene el índice de cobertura de transporte público:\n",
    "- ```IC = (IPH_norm + IPA_norm) / 2```\n",
    "\n",
    "Un IC alto indica una buena distribución de las paradas tanto por habitante como por área, mientras que un IC bajo sugiere la necesidad de mejorar la distribución de las paradas."
   ]
  },
  {
   "cell_type": "markdown",
   "metadata": {},
   "source": [
    "<hr>\n",
    "<p style = \"text-align: justify; padding:10px;\"> Antes de continuar, veamos cómo se distribuyen las Zonas del transporte, esto según la información del DTP (Dirección de Transporte Público Metropolitano) </p>\n",
    "\n",
    "<div>\n",
    "<img style=\"size: 30rem\" src=\"imgs/Zonas de Transporte Público.png\">\n",
    "<span style=\"font-style: italic;\"> Fig 2.0 : Zonas de transporte público en la región metropolitana. </span>"
   ]
  },
  {
   "cell_type": "markdown",
   "metadata": {},
   "source": [
    "<p style=\"padding:10px; text-align:justify;\">\n",
    "Una vez teniendo esta distribución, podemos seguir explorando y analizando los resultado que hemos obtenido. En particular\n",
    "consideremos también los índices de pobreza en las comunas durante los años 2020 y 2022 [datos del registro social de hogares] , y veamos cómo podemos comenzar a hacer relaciones.</p>\n",
    "<img src=\"imgs/pobreza_2020_2022.png\">\n",
    "<span style=\"font-style: italic;\"> Fig 2.1 : Índices de pobreza en la región metropolitana en los años 2020 y 2022. </span>\n",
    "<p style=\"font-style: italic;\"> * Se consideran para esto proyecciones de población comunal en viviendas particulares al 30 de noviembre de 2022 según el Censo de Población y Vivienda 2017.</p>\n",
    "<p style=\"font-size: 0.7rem; text-align: justify; padding:10px;\">\n",
    "La metodología de áreas pequeñas busca realizar estimaciones a nivel comunal, ya que Casen no está diseñada para obtener estimaciones de calidad adecuada a ese nivel de desagregación. Para estimaciones a nivel regional y nacional, se deben utilizar las estadísticas oficiales publicadas a partir de Casen (https://observatorio.ministeriodesarrollosocial.gob.cl/encuesta-casen-2022). De todas formas se recomienda tomar en consideración los intervalos de confianza elaborados, ya que la metodología SAE entrega estimaciones de pobreza comunal que están sujetas a errores de estimación. (Fuente: RSH)</p>\n"
   ]
  },
  {
   "cell_type": "markdown",
   "metadata": {},
   "source": [
    "<p style=\"padding:2px; text-align:justify; margin:4px;\">\n",
    "Lo primero que podemos ver es que los índices de pobreza disminuyeron casi a la mitad, pero que también se mantiene la distribución de esta.</p>\n",
    "<p style=\"padding:2px; text-align:justify; margin:4px;\">Vemos que también (en general) las comunas con mayores índices son donde encontramos una mayor densidad de paraderos (fig.1), y al revés, dónde hay menor índice de pobreza (Las condes por ej), la densidad de paraderos es menor. </p>\n",
    "<p style=\"padding:2px; text-align:justify; margin:4px;\"> De esto podemos intuir que a medida que la situación socioeconomica es mejor, el uso del transporte público es menor, pues existen otros medios de transporte (autos, taxis, uber) que son mas accesibles para estos sectores.</p>"
   ]
  },
  {
   "cell_type": "markdown",
   "metadata": {},
   "source": [
    "<p style=\"padding:2px; text-align:justify;\">\n",
    "Otro análisis con los datos del BIDAT (Banco Integrado de Datos), muestra como se han movilizado los distintos tramos CSE (Clasificación Socioeconómica) en Santiago a través de los últimos años. El tramo CSE es una herramienta clasificatoria del RSH (Registro Social de Hogares) que agrupa los hogares de Chile según sus ingresos totales, los integrantes de la familia, las características de la vivienda y la educación de los miembros. Un tramo CSE bajo se traduce en menores ingresos y mayor vulnerabilidad, mientras que un tramo CSE alto en mayores ingresos y menor vulnerabilidad.\n",
    "</p>\n",
    "\n",
    "<div style=\"display: flex;\">\n",
    "<img style=\"width: 33rem\" src=\"imgs/CSE_tramos_bajos/cambio_mapas.gif\">\n",
    "<img style=\"margin: 0; width: 33rem;\" src=\"imgs/CSE_tramos_altos/cambio_mapas.gif\">\n",
    "</div> \n",
    "<span style=\"font-style:italic; \">Fig 3.0 Porcentaje de hogares en tramos CSE bajos y altos por comuna entre 2016 y 2021.</span>\n",
    "\n",
    "<p style=\"padding:2px; text-align:justify;\">\n",
    "Se observa la progresión del <strong>porcentaje de hogares</strong> dentro de un tramo bajo (menor a 40%) y un tramo alto (70% - 100%), para cada comuna de Santiago.\n",
    "</p>"
   ]
  },
  {
   "cell_type": "markdown",
   "metadata": {},
   "source": [
    "<p style=\"padding:2px; text-align:justify;\">\n",
    "Este comportamiento a través del tiempo puede resumirse en un ajuste lineal de cada comuna.\n",
    "</p>\n",
    "\n",
    "<div style=\"display: flex;\">\n",
    "<img style=\"width: 33rem\" src=\"imgs/CSE_tramos_bajos/lineales/San Joaquín.png\">\n",
    "<img style=\"margin: 0; width: 33rem;\" src=\"imgs/CSE_tramos_altos/lineales/San Joaquín.png\">\n",
    "</div> \n",
    "<span style=\"font-style:italic; \">Fig 3.1 Ajuste lineal de porcentaje de hogares en tramos CSE bajos y altos entre 2016 y 2021. Ejemplo San Joaquín.</span>\n",
    "\n",
    "<p style=\"padding:2px; text-align:justify;\">\n",
    "Basta con entender la pendiente como una medida promedio del crecimiento de porcentaje en tramos altos y bajos durante los últimos años. Y así podemos visualizar todo en un gráfico con los valores de las pendientes.\n",
    "</p>\n",
    "\n",
    "<div style=\"display: flex;\">\n",
    "<img style=\"width: 33rem\" src=\"imgs/CSE_tramos_bajos/comparacion_betas.png\">\n",
    "<img style=\"margin: 0; width: 33rem;\" src=\"imgs/CSE_tramos_altos/comparacion_betas.png\">\n",
    "</div> \n",
    "<span style=\"font-style:italic; \">Fig 3.2 Ajuste lineal de porcentaje de hogares en tramos CSE bajos y altos entre 2016 y 2021. Ejemplo San Joaquín.</span>"
   ]
  },
  {
   "cell_type": "markdown",
   "metadata": {},
   "source": [
    "<p style=\"padding:2px; text-align:justify;\">\n",
    "Con el análisis anterior, y viendo nuevamente la Fig 1, podemos reforzar la idea de que <strong>en general</strong> las comunas con más cobertura de transporte, suelen ser también aquellas con un mayor crecimiento de hogares en los tramos CSE más bajos, aunque con excepciones como La Reina por ejemplo.\n",
    "\n",
    "Observando la Fig 0, podemos ver también como las comunas sin cobertura de metro, suelen ser las que tienen la tasa más alta de crecimiento de hogares bajo el tramo 40%, a excepción del sector nororiente de Santiago.\n",
    "\n",
    "En cuanto a las comunas con mayor crecimiento de hogares sobre el tramo 70%, no parece haber una correlación muy clara con la cobertura de transporte. Por ejemplo Vitacura no tiene una gran cobertura de buses ni lineas de metro en su territorio, sin embargo en San Miguel todo lo contrario y ambas muestran un gran crecimiento, y en general no hayamos una tendencia clara respecto al transporte en estas comunas.\n",
    "\n",
    "De este análisis no se concluye que el transporte de buses empobrezca a la población, creemos que la razón de que exista una mayor cobertura de buses en las zonas con peores proyecciones de tramos CSE es porque precisamente allí existe una mayor necesidad de estos recursos, en cambio, en las zonas con mejores proyecciones de tramos CSE la necesidad no es tan grande.\n",
    "\n",
    "En cuanto al metro, la falta de cobertura en las comunas más externas parece agravar las proyecciones de tramos, puesto que las comunas que ya contaban con un gran porcentaje de hogares bajo el tramo 40%, son las que más rápidamente aumentan este porcentaje.\n",
    "</p>\n"
   ]
  },
  {
   "cell_type": "markdown",
   "metadata": {},
   "source": [
    "<p style=\"padding:2px; text-align:justify;\">\n",
    "Ahora, sin llegar a conclusiones precipitadas, veamos la cantidad de viajes iniciados por comuna, en abril de este año (2024)</p>\n",
    "<div style=\"padding:3px; text-align:center;\">\n",
    "<img style=\"width:50rem;\" src=\"imgs/viajes_15_abril.png\">\n",
    "</div>\n",
    "<span style=\"font-style:italic; \">Fig 4 Cantidad de viajes iniciados por comuna 2024.</span>"
   ]
  },
  {
   "cell_type": "markdown",
   "metadata": {},
   "source": [
    "<p style=\"padding:2px; text-align:justify;\">\n",
    "Vemos que por lejos Santiago centro es de dónde más se inician viajes. Podemos, también, seguir manteniendo que comunas como Lo Barnechea, Vitacura, que tienen menores indices de pobreza, utilizan menos el transporte público. Pero también tenemos que Las Condes, al ser también una comuna con alto cuerpo empresarial, tiene una gran cantidad de viajes (lo mismo Providencia). Desde luego Maipú también resalta en esta observación.</p>\n",
    "\n",
    "<p style=\"padding:2px; text-align:justify;\"> Podemos empezar a vislumbrar que el uso del transporte no se relaciona únicamente con la situación socioeconomica que vive en esa comuna, sino también con la gente que trabaja en ella, el tipo de actividad principal de esa comuna, pero también la cantidad de gente que vive ahí. </p>\n",
    "\n",
    "\n",
    "Consideremos entonces otros factores que pueden determinar la distribución y uso del transporte público en la región metropolitana."
   ]
  },
  {
   "cell_type": "markdown",
   "metadata": {},
   "source": [
    "<h2 style=\"text-align: center;\"> Servicios de salud </h2>\n",
    "<div style=\"padding:3px; text-align:center;\">\n",
    "<img style=\"width:50rem;\" src=\"imgs/relacionParadasServiciosSalud.png\">\n",
    "</div>\n",
    "<span style=\"font-style:italic; \">Fig 5 Relación entre densidad de paradas y densidad de servicios de salud por comuna.</span>\n"
   ]
  },
  {
   "cell_type": "markdown",
   "metadata": {},
   "source": [
    "### Correlación urbana\n",
    "Podemos ver que las comunas céntricas tienen una infraestructura de servicios de salud más densa debido al número de habitantes permanentes y visitantes temporales. Con esto se puede reforzar la idea de que la densidad de transporte y servicios básicos está diseñada para soportar áreas de alta actividad económica y social.\n",
    "\n",
    "### Implicaciones socioeconómicas\n",
    "Las comunas con baja densidad de servicios de salud y transporte público (como Vitacura y Lo Barnechea) tienden a ser más exclusivas y con mayor acceso a vehículos privados, lo que como vimos previamente, reduce su dependencia del transporte público y su necesidad de infraestructura pública local.\n",
    "\n",
    "Las comunas periféricas (como La Pintana y Puente Alto) presentan índices igual de bajos, sin embargo, al ser éstas más pobres, podrían estar en desventaja en términos de acceso a recursos esenciales, aumentándose las desigualdades socioeconómicas.\n",
    "\n",
    "### Impacto en la planificación urbana\n",
    "La fuerte concentración en áreas céntricas sugiere que las estrategias actuales no están equilibrando la distribución de recursos."
   ]
  },
  {
   "cell_type": "markdown",
   "metadata": {},
   "source": [
    "<h2 style=\"text-align: center;\"> Relación entre zonas educativas y rutas de buses por comuna </h2>\n",
    "<div style=\"padding:3px; text-align:center;\">\n",
    "<img style=\"width:50rem;\" src=\"imgs/graficoGeoespacial.png\">\n",
    "</div>\n",
    "<span style=\"font-style:italic; \">Fig 6 Número de zonas educativas por comuna y longitud de rutas de buses por comuna.</span>\n",
    "\n",
    "En el mapa de zonas educativas se observa una alta concentración en el sector centro-oriente, específicamente en comunas como Las Condes y Providencia, así como en el sector poniente en Maipú. Por otro lado, el mapa de longitud de rutas de buses muestra una concentración notable en Maipú, que destaca significativamente del resto de comunas con su extensa red de transporte público. Esta diferencia entre ambos mapas sugiere que la distribución de servicios de transporte público no sigue necesariamente la lógica de la distribución educativa en Santiago.\n",
    "\n",
    "<div style=\"padding:3px; text-align:center;\">\n",
    "<img style=\"width:50rem;\" src=\"imgs/graficoDispersion.png\">\n",
    "</div>\n",
    "<span style=\"font-style:italic; \">Fig 7 Relación entre zonas educativas y rutas de buses por comuna.</span>\n",
    "\n",
    "Se puede apreciar que Maipú sobresale como un caso particular, con aproximadamente 140 zonas educativas y la mayor extensión de buses. Por otro lado, comunas de alto nivel socioeconómico como Las Condes y Vitacura muestran un número significativo de zonas educativas pero una cobertura de transporte público relativamente menor, lo que podría nuevamente explicarse, al igual que en los caso anteriores, por una mayor dependencia del transporte privado en estas áreas.\n",
    "\n",
    "También se puede observar que comunas con menos recursos como La Pintana, El Bosque y Lo Espejo, muestran una doble desventaja: menor número de zonas educativas y cobertura limitada de transporte público. Esto refuerza el patrón de desigualdad que se viene observando en los análisis previos, observando que las comunas de menores ingresos enfrentan mayores barreras tanto en acceso educativo como en movilidad.\n",
    "\n",
    "En general, este análisis muestra que la relación entre zonas educativas y la cobertura de transporte público no es lineal y está fuertemente influenciada por factores socioeconómicos. Las comunas de ingresos medios, como Maipú y La Florida, parecen lograr un mejor balance entre acceso educativo y cobertura de transporte público, mientras que en los extremos socioeconómicos se siguen observando diferencias significativas."
   ]
  }
 ],
 "metadata": {
  "language_info": {
   "name": "python"
  }
 },
 "nbformat": 4,
 "nbformat_minor": 2
}
